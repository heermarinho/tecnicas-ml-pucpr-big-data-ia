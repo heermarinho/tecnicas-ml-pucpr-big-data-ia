{
 "cells": [
  {
   "cell_type": "markdown",
   "metadata": {},
   "source": [
    "# Pontifícia Universidade Católica do Paraná\n",
    "## Disciplina: Técnicas de Machine Learning\n",
    "#### Conteúdo complementar da Semana 3 - ML"
   ]
  },
  {
   "cell_type": "markdown",
   "metadata": {},
   "source": [
    "A ideia deste notebook é a de realizarmos o processo de treinamento e previsão de modelos de aprendizagem supervisionada. Logo, ele estará dividido em três partes: regressão, classificação e séries temporais. Cada um deles utilizará técnicas diferentes para alcançar os resultados.\n",
    "\n",
    "Aproveite este notebook para entender as funções e, quando tiver alguma dúvida sobre o significado de algum novo parâmetro, procurar na documentação oficial das bibliotecas para entender melhor quais são as possibilidades. Exemplo: <em>\"o que significa o</em> ```sep``` <em>no pd.read.csv?\"</em>\n",
    "\n",
    "Na unidade comentamos também sobre outras bibliotecas como o LightGBM, XGBoost e Prophet. Utilizaremos elas aqui, mas note que elas funcionam de forma bem similar com o scikit-learn:\n",
    "- <a href=\"https://lightgbm.readthedocs.io/en/latest/\">LightGBM</a>\n",
    "- <a href=\"https://facebook.github.io/prophet/docs/quick_start.html#python-api\">Prophet</a>\n",
    "- <a href=\"https://xgboost.readthedocs.io/en/latest/\">XGBoost</a>\n",
    "\n",
    "**AVISO:** este notebook trata somente do passo de treinamento e não foca no passo anterior de preparação do dataset. É por isso que não mostramos técnicas de aprendizagem não-supervisionada aqui. Por outro lado, lembre-se que em bases de dados reais precisaremos aplicar tais técnicas."
   ]
  },
  {
   "cell_type": "code",
   "execution_count": 1,
   "metadata": {},
   "outputs": [
    {
     "name": "stderr",
     "output_type": "stream",
     "text": [
      "Importing plotly failed. Interactive plots will not work.\n"
     ]
    }
   ],
   "source": [
    "import pandas as pd # importando o pandas para manipularmos os datasets\n",
    "\n",
    "from prophet import Prophet # utilizado para séries temporais\n",
    "from sklearn.model_selection import train_test_split # utilizado para o split entre treinamento e teste\n",
    "from sklearn.ensemble import RandomForestRegressor # random forest para regressão\n",
    "from sklearn.ensemble import RandomForestClassifier # random forest para classificação\n",
    "from lightgbm import LGBMRegressor # LightGBM para regressão\n",
    "from xgboost import XGBClassifier # XGBoost para classificação"
   ]
  },
  {
   "cell_type": "markdown",
   "metadata": {},
   "source": [
    "## Regressão\n",
    "Aqui, vamos trabalhar com uma <a href=\"http://archive.ics.uci.edu/ml/datasets/Wine+Quality\">outra base de vinhos</a> da base do repositório do UCI, um repositório de datasets bem conhecido para estudos. Esta base tem uma coluna chamada ```quality```: uma nota dada para o vinho. A nota pode ser interpretada como uma **escala numérica** e, por isso, seria entendida como um problema de regressão."
   ]
  },
  {
   "cell_type": "code",
   "execution_count": 2,
   "metadata": {},
   "outputs": [
    {
     "data": {
      "text/html": [
       "<div>\n",
       "<style scoped>\n",
       "    .dataframe tbody tr th:only-of-type {\n",
       "        vertical-align: middle;\n",
       "    }\n",
       "\n",
       "    .dataframe tbody tr th {\n",
       "        vertical-align: top;\n",
       "    }\n",
       "\n",
       "    .dataframe thead th {\n",
       "        text-align: right;\n",
       "    }\n",
       "</style>\n",
       "<table border=\"1\" class=\"dataframe\">\n",
       "  <thead>\n",
       "    <tr style=\"text-align: right;\">\n",
       "      <th></th>\n",
       "      <th>fixed acidity</th>\n",
       "      <th>volatile acidity</th>\n",
       "      <th>citric acid</th>\n",
       "      <th>residual sugar</th>\n",
       "      <th>chlorides</th>\n",
       "      <th>free sulfur dioxide</th>\n",
       "      <th>total sulfur dioxide</th>\n",
       "      <th>density</th>\n",
       "      <th>pH</th>\n",
       "      <th>sulphates</th>\n",
       "      <th>alcohol</th>\n",
       "      <th>quality</th>\n",
       "    </tr>\n",
       "  </thead>\n",
       "  <tbody>\n",
       "    <tr>\n",
       "      <th>0</th>\n",
       "      <td>7.4</td>\n",
       "      <td>0.700</td>\n",
       "      <td>0.00</td>\n",
       "      <td>1.9</td>\n",
       "      <td>0.076</td>\n",
       "      <td>11.0</td>\n",
       "      <td>34.0</td>\n",
       "      <td>0.99780</td>\n",
       "      <td>3.51</td>\n",
       "      <td>0.56</td>\n",
       "      <td>9.4</td>\n",
       "      <td>5</td>\n",
       "    </tr>\n",
       "    <tr>\n",
       "      <th>1</th>\n",
       "      <td>7.8</td>\n",
       "      <td>0.880</td>\n",
       "      <td>0.00</td>\n",
       "      <td>2.6</td>\n",
       "      <td>0.098</td>\n",
       "      <td>25.0</td>\n",
       "      <td>67.0</td>\n",
       "      <td>0.99680</td>\n",
       "      <td>3.20</td>\n",
       "      <td>0.68</td>\n",
       "      <td>9.8</td>\n",
       "      <td>5</td>\n",
       "    </tr>\n",
       "    <tr>\n",
       "      <th>2</th>\n",
       "      <td>7.8</td>\n",
       "      <td>0.760</td>\n",
       "      <td>0.04</td>\n",
       "      <td>2.3</td>\n",
       "      <td>0.092</td>\n",
       "      <td>15.0</td>\n",
       "      <td>54.0</td>\n",
       "      <td>0.99700</td>\n",
       "      <td>3.26</td>\n",
       "      <td>0.65</td>\n",
       "      <td>9.8</td>\n",
       "      <td>5</td>\n",
       "    </tr>\n",
       "    <tr>\n",
       "      <th>3</th>\n",
       "      <td>11.2</td>\n",
       "      <td>0.280</td>\n",
       "      <td>0.56</td>\n",
       "      <td>1.9</td>\n",
       "      <td>0.075</td>\n",
       "      <td>17.0</td>\n",
       "      <td>60.0</td>\n",
       "      <td>0.99800</td>\n",
       "      <td>3.16</td>\n",
       "      <td>0.58</td>\n",
       "      <td>9.8</td>\n",
       "      <td>6</td>\n",
       "    </tr>\n",
       "    <tr>\n",
       "      <th>4</th>\n",
       "      <td>7.4</td>\n",
       "      <td>0.700</td>\n",
       "      <td>0.00</td>\n",
       "      <td>1.9</td>\n",
       "      <td>0.076</td>\n",
       "      <td>11.0</td>\n",
       "      <td>34.0</td>\n",
       "      <td>0.99780</td>\n",
       "      <td>3.51</td>\n",
       "      <td>0.56</td>\n",
       "      <td>9.4</td>\n",
       "      <td>5</td>\n",
       "    </tr>\n",
       "    <tr>\n",
       "      <th>...</th>\n",
       "      <td>...</td>\n",
       "      <td>...</td>\n",
       "      <td>...</td>\n",
       "      <td>...</td>\n",
       "      <td>...</td>\n",
       "      <td>...</td>\n",
       "      <td>...</td>\n",
       "      <td>...</td>\n",
       "      <td>...</td>\n",
       "      <td>...</td>\n",
       "      <td>...</td>\n",
       "      <td>...</td>\n",
       "    </tr>\n",
       "    <tr>\n",
       "      <th>1594</th>\n",
       "      <td>6.2</td>\n",
       "      <td>0.600</td>\n",
       "      <td>0.08</td>\n",
       "      <td>2.0</td>\n",
       "      <td>0.090</td>\n",
       "      <td>32.0</td>\n",
       "      <td>44.0</td>\n",
       "      <td>0.99490</td>\n",
       "      <td>3.45</td>\n",
       "      <td>0.58</td>\n",
       "      <td>10.5</td>\n",
       "      <td>5</td>\n",
       "    </tr>\n",
       "    <tr>\n",
       "      <th>1595</th>\n",
       "      <td>5.9</td>\n",
       "      <td>0.550</td>\n",
       "      <td>0.10</td>\n",
       "      <td>2.2</td>\n",
       "      <td>0.062</td>\n",
       "      <td>39.0</td>\n",
       "      <td>51.0</td>\n",
       "      <td>0.99512</td>\n",
       "      <td>3.52</td>\n",
       "      <td>0.76</td>\n",
       "      <td>11.2</td>\n",
       "      <td>6</td>\n",
       "    </tr>\n",
       "    <tr>\n",
       "      <th>1596</th>\n",
       "      <td>6.3</td>\n",
       "      <td>0.510</td>\n",
       "      <td>0.13</td>\n",
       "      <td>2.3</td>\n",
       "      <td>0.076</td>\n",
       "      <td>29.0</td>\n",
       "      <td>40.0</td>\n",
       "      <td>0.99574</td>\n",
       "      <td>3.42</td>\n",
       "      <td>0.75</td>\n",
       "      <td>11.0</td>\n",
       "      <td>6</td>\n",
       "    </tr>\n",
       "    <tr>\n",
       "      <th>1597</th>\n",
       "      <td>5.9</td>\n",
       "      <td>0.645</td>\n",
       "      <td>0.12</td>\n",
       "      <td>2.0</td>\n",
       "      <td>0.075</td>\n",
       "      <td>32.0</td>\n",
       "      <td>44.0</td>\n",
       "      <td>0.99547</td>\n",
       "      <td>3.57</td>\n",
       "      <td>0.71</td>\n",
       "      <td>10.2</td>\n",
       "      <td>5</td>\n",
       "    </tr>\n",
       "    <tr>\n",
       "      <th>1598</th>\n",
       "      <td>6.0</td>\n",
       "      <td>0.310</td>\n",
       "      <td>0.47</td>\n",
       "      <td>3.6</td>\n",
       "      <td>0.067</td>\n",
       "      <td>18.0</td>\n",
       "      <td>42.0</td>\n",
       "      <td>0.99549</td>\n",
       "      <td>3.39</td>\n",
       "      <td>0.66</td>\n",
       "      <td>11.0</td>\n",
       "      <td>6</td>\n",
       "    </tr>\n",
       "  </tbody>\n",
       "</table>\n",
       "<p>1599 rows × 12 columns</p>\n",
       "</div>"
      ],
      "text/plain": [
       "      fixed acidity  volatile acidity  citric acid  residual sugar  chlorides  \\\n",
       "0               7.4             0.700         0.00             1.9      0.076   \n",
       "1               7.8             0.880         0.00             2.6      0.098   \n",
       "2               7.8             0.760         0.04             2.3      0.092   \n",
       "3              11.2             0.280         0.56             1.9      0.075   \n",
       "4               7.4             0.700         0.00             1.9      0.076   \n",
       "...             ...               ...          ...             ...        ...   \n",
       "1594            6.2             0.600         0.08             2.0      0.090   \n",
       "1595            5.9             0.550         0.10             2.2      0.062   \n",
       "1596            6.3             0.510         0.13             2.3      0.076   \n",
       "1597            5.9             0.645         0.12             2.0      0.075   \n",
       "1598            6.0             0.310         0.47             3.6      0.067   \n",
       "\n",
       "      free sulfur dioxide  total sulfur dioxide  density    pH  sulphates  \\\n",
       "0                    11.0                  34.0  0.99780  3.51       0.56   \n",
       "1                    25.0                  67.0  0.99680  3.20       0.68   \n",
       "2                    15.0                  54.0  0.99700  3.26       0.65   \n",
       "3                    17.0                  60.0  0.99800  3.16       0.58   \n",
       "4                    11.0                  34.0  0.99780  3.51       0.56   \n",
       "...                   ...                   ...      ...   ...        ...   \n",
       "1594                 32.0                  44.0  0.99490  3.45       0.58   \n",
       "1595                 39.0                  51.0  0.99512  3.52       0.76   \n",
       "1596                 29.0                  40.0  0.99574  3.42       0.75   \n",
       "1597                 32.0                  44.0  0.99547  3.57       0.71   \n",
       "1598                 18.0                  42.0  0.99549  3.39       0.66   \n",
       "\n",
       "      alcohol  quality  \n",
       "0         9.4        5  \n",
       "1         9.8        5  \n",
       "2         9.8        5  \n",
       "3         9.8        6  \n",
       "4         9.4        5  \n",
       "...       ...      ...  \n",
       "1594     10.5        5  \n",
       "1595     11.2        6  \n",
       "1596     11.0        6  \n",
       "1597     10.2        5  \n",
       "1598     11.0        6  \n",
       "\n",
       "[1599 rows x 12 columns]"
      ]
     },
     "execution_count": 2,
     "metadata": {},
     "output_type": "execute_result"
    }
   ],
   "source": [
    "df_wine = pd.read_csv('http://archive.ics.uci.edu/ml/machine-learning-databases/wine-quality/winequality-red.csv', sep=';') # importando a base\n",
    "df_wine"
   ]
  },
  {
   "cell_type": "markdown",
   "metadata": {},
   "source": [
    "Neste momento fazemos o split da base entre treinamento e teste. Perceba que primeiro removemos a coluna que queremos prever (```quality```) para o nosso ```X_train_wine``` e ```X_test_wine```. Se não fizermos isso, o ```quality``` também passará a fazer parte da base de treinamento. Ou seja, para prevermos a qualidade do vinho precisaríamos saber com antecedência a qualidade do vinho. Não faz sentido, né?\n",
    "\n",
    "Faremos isto também com a base de classificação."
   ]
  },
  {
   "cell_type": "code",
   "execution_count": 3,
   "metadata": {},
   "outputs": [],
   "source": [
    "# split entre treinamento e teste\n",
    "X_train_wine, X_test_wine, y_train_wine, y_test_wine = train_test_split(df_wine.drop('quality', axis=1), # aqui informamos os atributos\n",
    "                                                                        df_wine['quality'], # aqui informamos as labels e na mesma ordem dos atributos\n",
    "                                                                        test_size=0.20, # informamos a porcentagem de divisão da base. Geralmente é algo entre 20% (0.20) a 35% (0.35)\n",
    "                                                                        random_state=0) # aqui informamos um \"seed\". É um valor aleatório e usado para que alguns algoritmos iniciem de forma aleatória a sua divisão."
   ]
  },
  {
   "cell_type": "markdown",
   "metadata": {},
   "source": [
    "Faremos agora o treinamento com dois algoritmos. Posteriormente na disciplina aprenderemos sobre as métricas de validação dos algoritmos."
   ]
  },
  {
   "cell_type": "code",
   "execution_count": null,
   "metadata": {},
   "outputs": [],
   "source": [
    "# Treinando com o RandomForestRegressor\n",
    "modelo_rfr = RandomForestRegressor(random_state=0).fit(X_train_wine, y_train_wine)\n",
    "predicoes_rfr = modelo_rfr.predict(X_test_wine)\n",
    "\n",
    "# Treinando com o LightGBM (LGBMRegressor)\n",
    "modelo_lgbm = LGBMRegressor(random_state=0).fit(X_train_wine, y_train_wine)\n",
    "predicoes_lgbm = modelo_lgbm.predict(X_test_wine)"
   ]
  },
  {
   "cell_type": "markdown",
   "metadata": {},
   "source": [
    "Agora criaremos uma visualização conjunta das predições. Compare os resultados: a primeira coluna equivale aos valores reais da base de teste e as outras colunas são as predições."
   ]
  },
  {
   "cell_type": "code",
   "execution_count": null,
   "metadata": {},
   "outputs": [],
   "source": [
    "resultados_regressao = pd.DataFrame(y_test_wine)\n",
    "resultados_regressao['Predicao_RandomForest'] = predicoes_rfr\n",
    "resultados_regressao['Predicao_LightGBM'] = predicoes_lgbm\n",
    "\n",
    "resultados_regressao"
   ]
  },
  {
   "cell_type": "markdown",
   "metadata": {},
   "source": [
    "## Classificação\n",
    "\n",
    "Aqui trabalharemos com a mesma base dos vinhos (no caso, dos produtores) que já vimos na semana passada. A diferença é que pegaremos de uma base da internet (<a href=\"http://archive.ics.uci.edu/ml/datasets/Wine\">no caso, do UCI</a>), e não do scikit-learn. Esta base não possui o nome das colunas e é por isso que estamos inserindo na mão (é uma boa hora <a href=\"https://pandas.pydata.org/docs/reference/api/pandas.read_csv.html#pandas.read_csv\">para pesquisar</a> sobre os parâmetros ```names``` e ```index_col``` do ```read_csv```)."
   ]
  },
  {
   "cell_type": "code",
   "execution_count": null,
   "metadata": {},
   "outputs": [],
   "source": [
    "df_wine_clf = pd.read_csv('http://archive.ics.uci.edu/ml/machine-learning-databases/wine/wine.data',\n",
    "                          names=['class', 'Alcohol', 'Malic acid', 'Ash', 'Alcalinity of ash', 'Magnesium',\n",
    "                                 'Total phenols', 'Flavanoids', 'Nonflavanoid phenols', 'Proanthocyanins',\n",
    "                                 'Color intensity', 'Hue', 'OD280/OD315 of diluted wines', 'Proline'],\n",
    "                          index_col=False)\n",
    "\n",
    "df_wine_clf"
   ]
  },
  {
   "cell_type": "markdown",
   "metadata": {},
   "source": [
    "Fazendo o mesmo split entre treinamento e teste."
   ]
  },
  {
   "cell_type": "code",
   "execution_count": null,
   "metadata": {},
   "outputs": [],
   "source": [
    "# split entre treinamento e teste\n",
    "X_train_clf, X_test_clf, y_train_clf, y_test_clf = train_test_split(df_wine_clf.drop('class', axis=1), # aqui informamos os atributos\n",
    "                                                                    df_wine_clf['class'], # aqui informamos as labels e na mesma ordem dos atributos\n",
    "                                                                    test_size=0.20, # informamos a porcentagem de divisão da base. Geralmente é algo entre 20% (0.20) a 35% (0.35)\n",
    "                                                                    random_state=0) # aqui informamos um \"seed\". É um valor aleatório e usado para que alguns algoritmos iniciem de forma aleatória a sua divisão."
   ]
  },
  {
   "cell_type": "markdown",
   "metadata": {},
   "source": [
    "Faremos agora o treinamento com dois algoritmos. Da mesma forma para os problemas de regressão, veremos também na disciplina em um momento seguinte sobre as métricas de validação dos algoritmos."
   ]
  },
  {
   "cell_type": "code",
   "execution_count": null,
   "metadata": {},
   "outputs": [],
   "source": [
    "# Treinando com o RandomForestClassifier\n",
    "modelo_rfc = RandomForestClassifier(random_state=0).fit(X_train_clf, y_train_clf)\n",
    "predicoes_rfc = modelo_rfc.predict(X_test_clf)\n",
    "\n",
    "# Treinando com o XGBoost (XGBClassifier)\n",
    "modelo_xgb = XGBClassifier(random_state=0).fit(X_train_clf, y_train_clf)\n",
    "predicoes_xgb = modelo_xgb.predict(X_test_clf)"
   ]
  },
  {
   "cell_type": "markdown",
   "metadata": {},
   "source": [
    "E, como fizemos anteriormente, agora criaremos uma visualização conjunta das predições. Compare novamente os resultados."
   ]
  },
  {
   "cell_type": "code",
   "execution_count": null,
   "metadata": {},
   "outputs": [],
   "source": [
    "resultados_classificacao = pd.DataFrame(y_test_clf)\n",
    "resultados_classificacao['Predicao_RandomForest'] = predicoes_rfc\n",
    "resultados_classificacao['Predicao_XGBoost'] = predicoes_xgb\n",
    "\n",
    "resultados_classificacao"
   ]
  },
  {
   "cell_type": "markdown",
   "metadata": {},
   "source": [
    "## Séries temporais (forecasting)\n",
    "\n",
    "Aqui trabalharemos com a base da cotação do dólar fornecida pelo Banco Central do Brasil (BCB). Note um novo parâmetro: o ```decimal``` do ```read_csv```. Estamos pegando diretamente do BCB e pegando somente os últimos 2 anos de dados (365x2=730 dias)."
   ]
  },
  {
   "cell_type": "code",
   "execution_count": null,
   "metadata": {},
   "outputs": [],
   "source": [
    "df_cotacao = pd.read_csv('http://api.bcb.gov.br/dados/serie/bcdata.sgs.10813/dados/ultimos/730?formato=csv',\n",
    "                         sep=';',\n",
    "                         decimal=',')\n",
    "\n",
    "# precisamos converter a coluna \"data\" para que seja de fato do tipo data\n",
    "df_cotacao['data'] = pd.to_datetime(df_cotacao['data'], format='%d/%m/%Y')\n",
    "\n",
    "# para que o Prophet funcione precisamos obrigatoriamente chamar a coluna de data de \"ds\" e o valor de \"y\"\n",
    "df_cotacao = df_cotacao.rename(columns={'data': 'ds', 'valor': 'y'})\n",
    "df_cotacao"
   ]
  },
  {
   "cell_type": "markdown",
   "metadata": {},
   "source": [
    "Em séries temporais a divisão de treino e teste é um pouco diferente: geralmente separamos as entradas mais recentes e testamos com as antigas. O ```train_test_split``` divide de forma aleatória e, por isso, não é muito legal de ser usado aqui.\n",
    "\n",
    "Antes de pegarmos as últimas entradas precisaremos sempre ordenar pela data. Esta base já está ordenada, mas utilizarei o ```sort_values``` mesmo assim para você ver o seu funcionamento. Pegarei os últimos 90 dias para teste."
   ]
  },
  {
   "cell_type": "code",
   "execution_count": null,
   "metadata": {},
   "outputs": [],
   "source": [
    "df_cotacao = df_cotacao.sort_values(by='ds')\n",
    "df_cotacao_train = df_cotacao.iloc[:-90]\n",
    "df_cotacao_test = df_cotacao.iloc[-90:]"
   ]
  },
  {
   "cell_type": "code",
   "execution_count": null,
   "metadata": {},
   "outputs": [],
   "source": [
    "df_cotacao_train"
   ]
  },
  {
   "cell_type": "markdown",
   "metadata": {},
   "source": [
    "Agora faremos o treinamento. <a href=\"https://facebook.github.io/prophet/docs/quick_start.html#python-api\">Observe que estou seguindo a documentação do código - não há nenhum segredo aqui.</a>"
   ]
  },
  {
   "cell_type": "code",
   "execution_count": null,
   "metadata": {},
   "outputs": [],
   "source": [
    "m = Prophet()\n",
    "m.fit(df_cotacao_train)"
   ]
  },
  {
   "cell_type": "code",
   "execution_count": null,
   "metadata": {},
   "outputs": [],
   "source": [
    "future = m.make_future_dataframe(periods=90) # vamos prever os próximos 90 dias para comparar com o que houve na realidade\n",
    "\n",
    "forecast = m.predict(future) # prevendo os próximos 90 dias\n",
    "forecast[['ds', 'yhat', 'yhat_lower', 'yhat_upper']].tail() # mostrando as predições (yhat) e intervalos de confiança: máximo (yhat_upper) e mínimo (yhat_lower)"
   ]
  },
  {
   "cell_type": "code",
   "execution_count": null,
   "metadata": {},
   "outputs": [],
   "source": [
    "# mostrando os resultados do Prophet\n",
    "fig = m.plot(forecast)"
   ]
  },
  {
   "cell_type": "markdown",
   "metadata": {},
   "source": [
    "Mostrando os valores: o ```y``` é o valor real (que o Prophet desconhecia), o ```yhat``` é o valor previsto. Existe também um intervalo de confiança máximo (```yhat_upper```) e mínimo (```yhat_lower```). Veja se o valor real ficou dentro da faixa esperada ou não. Note também que, quanto mais para o futuro olhamos, mais impreciso ele pode ser."
   ]
  },
  {
   "cell_type": "code",
   "execution_count": null,
   "metadata": {},
   "outputs": [],
   "source": [
    "forecast['y'] = df_cotacao_test['y']\n",
    "forecast[['ds', 'y', 'yhat', 'yhat_lower', 'yhat_upper']].iloc[-90:]"
   ]
  },
  {
   "cell_type": "code",
   "execution_count": null,
   "metadata": {},
   "outputs": [],
   "source": []
  }
 ],
 "metadata": {
  "kernelspec": {
   "display_name": "Python 3",
   "language": "python",
   "name": "python3"
  },
  "language_info": {
   "codemirror_mode": {
    "name": "ipython",
    "version": 3
   },
   "file_extension": ".py",
   "mimetype": "text/x-python",
   "name": "python",
   "nbconvert_exporter": "python",
   "pygments_lexer": "ipython3",
   "version": "3.8.8"
  }
 },
 "nbformat": 4,
 "nbformat_minor": 4
}
