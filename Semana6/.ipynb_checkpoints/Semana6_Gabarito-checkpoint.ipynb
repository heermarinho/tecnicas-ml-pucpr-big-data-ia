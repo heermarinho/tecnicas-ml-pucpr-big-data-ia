{
 "cells": [
  {
   "cell_type": "markdown",
   "metadata": {},
   "source": [
    "## 1"
   ]
  },
  {
   "cell_type": "code",
   "execution_count": 1,
   "metadata": {},
   "outputs": [
    {
     "data": {
      "image/png": "[encoded data removed]",
      "text/plain": [
       "<Figure size 432x288 with 2 Axes>"
      ]
     },
     "metadata": {
      "needs_background": "light"
     },
     "output_type": "display_data"
    },
    {
     "data": {
      "image/png": "[encoded data removed]",
      "text/plain": [
       "<Figure size 432x288 with 1 Axes>"
      ]
     },
     "metadata": {
      "needs_background": "light"
     },
     "output_type": "display_data"
    },
    {
     "data": {
      "text/plain": [
       "'AUC: 0.6935535090504922'"
      ]
     },
     "metadata": {},
     "output_type": "display_data"
    },
    {
     "data": {
      "text/plain": [
       "'F1 Score: 0.5833333333333334'"
      ]
     },
     "metadata": {},
     "output_type": "display_data"
    }
   ],
   "source": [
    "import pandas as pd\n",
    "import matplotlib.pyplot as plt\n",
    "from sklearn.metrics import *\n",
    "from sklearn.neighbors import KNeighborsClassifier\n",
    "from sklearn.model_selection import train_test_split\n",
    "\n",
    "df = pd.read_csv('wisconsin.csv')\n",
    "\n",
    "# substituindo as letras em números para que o treinamento não dê erros\n",
    "df['diagnosis'] = df['diagnosis'].replace({'B': 0, 'M': 1}) \n",
    "\n",
    "# removendo a última coluna - aparentemente houve algum erro na hora de importá-la\n",
    "df = df.dropna(axis=1)\n",
    "\n",
    "# split entre treinamento e teste\n",
    "X_train, X_test, y_train, y_test = train_test_split(df.drop('diagnosis', axis=1), df['diagnosis'], test_size=0.2, random_state=0)\n",
    "\n",
    "# criando o modelo\n",
    "modelo = KNeighborsClassifier().fit(X_train, y_train)\n",
    "\n",
    "# gerando as predições\n",
    "y_pred = modelo.predict(X_test)\n",
    "\n",
    "# matriz de confusão\n",
    "plot_confusion_matrix(modelo, X_test, y_test)\n",
    "plt.show()\n",
    "\n",
    "# ROC\n",
    "plot_roc_curve(modelo, X_test, y_test)\n",
    "plt.show()\n",
    "\n",
    "# AUC\n",
    "display(f'AUC: {roc_auc_score(y_test, y_pred)}')\n",
    "\n",
    "# F1 score\n",
    "display(f'F1 Score: {f1_score(y_test, y_pred)}')"
   ]
  },
  {
   "cell_type": "markdown",
   "metadata": {},
   "source": [
    "## 2"
   ]
  },
  {
   "cell_type": "code",
   "execution_count": 2,
   "metadata": {},
   "outputs": [
    {
     "data": {
      "text/plain": [
       "'MAE: 1.540909090909091'"
      ]
     },
     "metadata": {},
     "output_type": "display_data"
    },
    {
     "data": {
      "text/plain": [
       "'R2: 0.9200456228183016'"
      ]
     },
     "metadata": {},
     "output_type": "display_data"
    },
    {
     "data": {
      "text/plain": [
       "'MSE: 6.908636363636363'"
      ]
     },
     "metadata": {},
     "output_type": "display_data"
    },
    {
     "data": {
      "text/plain": [
       "'RMSE: 2.628428496960943'"
      ]
     },
     "metadata": {},
     "output_type": "display_data"
    }
   ],
   "source": [
    "import pandas as pd\n",
    "from sklearn.metrics import *\n",
    "from sklearn.tree import DecisionTreeRegressor\n",
    "from sklearn.model_selection import train_test_split\n",
    "\n",
    "df = pd.read_csv('expectancy.csv')\n",
    "\n",
    "# uma boa sugestão é a de tratar as colunas que são textos (Country e Status)\n",
    "# isto pode ser feito com o LabelEncoder e o OneHotEncoder do scikit-learn\n",
    "# removerei ambas para fins de brevidade do algoritmo\n",
    "df = df.drop(['Country', 'Status'], axis=1)\n",
    "\n",
    "# na disciplina de Preparação e Análise Exploratória de Dados você aprendeu \n",
    "# técnicas de imputação de dados ausentes. Se ainda não passou por lá\n",
    "# faremos somente a remoção de todas as linhas com dados nulos, mas\n",
    "# em bases reais recomendo que você tente ao menos tratar estes dados\n",
    "# ao invés de somente removê-los\n",
    "df = df.dropna()\n",
    "\n",
    "# split entre treinamento e teste\n",
    "X_train, X_test, y_train, y_test = train_test_split(df.drop('Life expectancy ', axis=1), df['Life expectancy '], test_size=0.2, random_state=0)\n",
    "\n",
    "# criando o modelo\n",
    "modelo = DecisionTreeRegressor(random_state=0).fit(X_train, y_train)\n",
    "\n",
    "# gerando as predições\n",
    "y_pred = modelo.predict(X_test)\n",
    "\n",
    "# MAE\n",
    "display(f\"MAE: {mean_absolute_error(y_test, y_pred)}\")\n",
    "\n",
    "# R2\n",
    "display(f\"R2: {r2_score(y_test, y_pred)}\")\n",
    "\n",
    "# MSE\n",
    "display(f\"MSE: {mean_squared_error(y_test, y_pred)}\")\n",
    "\n",
    "# RMSE\n",
    "display(f\"RMSE: {mean_squared_error(y_test, y_pred, squared=False)}\")"
   ]
  },
  {
   "cell_type": "markdown",
   "metadata": {},
   "source": [
    "## 3"
   ]
  },
  {
   "cell_type": "code",
   "execution_count": null,
   "metadata": {},
   "outputs": [],
   "source": [
    "import pandas as pd\n",
    "import matplotlib.pyplot as plt\n",
    "from sklearn.metrics import *\n",
    "from lightgbm import LGBMClassifier\n",
    "from sklearn.model_selection import train_test_split\n",
    "\n",
    "df = pd.read_csv('wisconsin.csv')\n",
    "\n",
    "# substituindo as letras em números para que o treinamento não dê erros\n",
    "df['diagnosis'] = df['diagnosis'].replace({'B': 0, 'M': 1}) \n",
    "\n",
    "# removendo a última coluna - aparentemente houve algum erro na hora de importá-la\n",
    "df = df.dropna(axis=1)\n",
    "\n",
    "# split entre treinamento e teste\n",
    "X_train, X_test, y_train, y_test = train_test_split(df.drop('diagnosis', axis=1), df['diagnosis'], test_size=0.2, random_state=0)\n",
    "\n",
    "# criando o modelo\n",
    "modelo = LGBMClassifier(random_state=0).fit(X_train, y_train)\n",
    "\n",
    "# gerando as predições\n",
    "y_pred = modelo.predict(X_test)\n",
    "\n",
    "# matriz de confusão\n",
    "plot_confusion_matrix(modelo, X_test, y_test)\n",
    "plt.show()\n",
    "\n",
    "# ROC\n",
    "plot_roc_curve(modelo, X_test, y_test)\n",
    "plt.show()\n",
    "\n",
    "# AUC\n",
    "display(f'AUC: {roc_auc_score(y_test, y_pred)}')\n",
    "\n",
    "# F1 score\n",
    "display(f'F1 Score: {f1_score(y_test, y_pred)}')"
   ]
  },
  {
   "cell_type": "code",
   "execution_count": null,
   "metadata": {},
   "outputs": [],
   "source": []
  }
 ],
 "metadata": {
  "kernelspec": {
   "display_name": "Python 3",
   "language": "python",
   "name": "python3"
  },
  "language_info": {
   "codemirror_mode": {
    "name": "ipython",
    "version": 3
   },
   "file_extension": ".py",
   "mimetype": "text/x-python",
   "name": "python",
   "nbconvert_exporter": "python",
   "pygments_lexer": "ipython3",
   "version": "3.8.8"
  }
 },
 "nbformat": 4,
 "nbformat_minor": 4
}
