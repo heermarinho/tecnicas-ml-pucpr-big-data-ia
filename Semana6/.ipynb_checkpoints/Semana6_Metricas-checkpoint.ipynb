{
 "cells": [
  {
   "cell_type": "markdown",
   "metadata": {},
   "source": [
    "# Pontifícia Universidade Católica do Paraná\n",
    "## Disciplina: Técnicas de Machine Learning\n",
    "#### Conteúdo complementar da Semana 6 - Métricas"
   ]
  },
  {
   "cell_type": "markdown",
   "metadata": {},
   "source": [
    "A ideia deste notebook é a de apresentarmos as métricas para a avaliação de diferentes modelos de ML."
   ]
  },
  {
   "cell_type": "code",
   "execution_count": 1,
   "metadata": {},
   "outputs": [],
   "source": [
    "from sklearn.model_selection import train_test_split # utilizado para o split entre treinamento e teste\n",
    "from sklearn.ensemble import RandomForestRegressor, RandomForestClassifier # random forest para regressão e classificação\n",
    "from sklearn.metrics import * # importando todas as funções de métricas do scikit-learn\n",
    "\n",
    "import pandas as pd # importando o pandas para manipularmos os datasets\n",
    "import numpy as np # importando o numpy para realizar manipulações de vetores\n",
    "import matplotlib.pyplot as plt # utilizado para a geração de gráficos\n",
    "import seaborn as sns # utilizado para a geração de gráficos"
   ]
  },
  {
   "cell_type": "code",
   "execution_count": 2,
   "metadata": {},
   "outputs": [],
   "source": [
    "# forçando a saída do pandas para que somente 3 dígitos sejam mostrados ao invés da notação científica\n",
    "pd.options.display.float_format = '{:.3f}'.format"
   ]
  },
  {
   "cell_type": "markdown",
   "metadata": {},
   "source": [
    "## Leitura da base de dados de regressão\n",
    "O dataset ```saldoconta``` contém alguns exemplos hipotéticos de saldos bancários e as suas previsões fornecidas por um algoritmo fictício."
   ]
  },
  {
   "cell_type": "code",
   "execution_count": 3,
   "metadata": {},
   "outputs": [
    {
     "data": {
      "text/html": [
       "<div>\n",
       "<style scoped>\n",
       "    .dataframe tbody tr th:only-of-type {\n",
       "        vertical-align: middle;\n",
       "    }\n",
       "\n",
       "    .dataframe tbody tr th {\n",
       "        vertical-align: top;\n",
       "    }\n",
       "\n",
       "    .dataframe thead th {\n",
       "        text-align: right;\n",
       "    }\n",
       "</style>\n",
       "<table border=\"1\" class=\"dataframe\">\n",
       "  <thead>\n",
       "    <tr style=\"text-align: right;\">\n",
       "      <th></th>\n",
       "      <th>SaldoConta</th>\n",
       "      <th>Predicao</th>\n",
       "    </tr>\n",
       "  </thead>\n",
       "  <tbody>\n",
       "    <tr>\n",
       "      <th>0</th>\n",
       "      <td>150150</td>\n",
       "      <td>15</td>\n",
       "    </tr>\n",
       "    <tr>\n",
       "      <th>1</th>\n",
       "      <td>100</td>\n",
       "      <td>10</td>\n",
       "    </tr>\n",
       "    <tr>\n",
       "      <th>2</th>\n",
       "      <td>10</td>\n",
       "      <td>100</td>\n",
       "    </tr>\n",
       "    <tr>\n",
       "      <th>3</th>\n",
       "      <td>1</td>\n",
       "      <td>1</td>\n",
       "    </tr>\n",
       "    <tr>\n",
       "      <th>4</th>\n",
       "      <td>0</td>\n",
       "      <td>0</td>\n",
       "    </tr>\n",
       "    <tr>\n",
       "      <th>5</th>\n",
       "      <td>0</td>\n",
       "      <td>10</td>\n",
       "    </tr>\n",
       "    <tr>\n",
       "      <th>6</th>\n",
       "      <td>0</td>\n",
       "      <td>0</td>\n",
       "    </tr>\n",
       "    <tr>\n",
       "      <th>7</th>\n",
       "      <td>50</td>\n",
       "      <td>49</td>\n",
       "    </tr>\n",
       "    <tr>\n",
       "      <th>8</th>\n",
       "      <td>500</td>\n",
       "      <td>490</td>\n",
       "    </tr>\n",
       "    <tr>\n",
       "      <th>9</th>\n",
       "      <td>500</td>\n",
       "      <td>510</td>\n",
       "    </tr>\n",
       "    <tr>\n",
       "      <th>10</th>\n",
       "      <td>5000</td>\n",
       "      <td>5001</td>\n",
       "    </tr>\n",
       "    <tr>\n",
       "      <th>11</th>\n",
       "      <td>50000</td>\n",
       "      <td>50001</td>\n",
       "    </tr>\n",
       "    <tr>\n",
       "      <th>12</th>\n",
       "      <td>500000</td>\n",
       "      <td>500500</td>\n",
       "    </tr>\n",
       "  </tbody>\n",
       "</table>\n",
       "</div>"
      ],
      "text/plain": [
       "    SaldoConta  Predicao\n",
       "0       150150        15\n",
       "1          100        10\n",
       "2           10       100\n",
       "3            1         1\n",
       "4            0         0\n",
       "5            0        10\n",
       "6            0         0\n",
       "7           50        49\n",
       "8          500       490\n",
       "9          500       510\n",
       "10        5000      5001\n",
       "11       50000     50001\n",
       "12      500000    500500"
      ]
     },
     "execution_count": 3,
     "metadata": {},
     "output_type": "execute_result"
    }
   ],
   "source": [
    "df_saldoconta = pd.read_csv('saldoconta.tsv', sep='\\t')\n",
    "df_saldoconta"
   ]
  },
  {
   "cell_type": "markdown",
   "metadata": {},
   "source": [
    "Compare os resultados abaixo. Depois disso, busque alterar alguns valores da coluna ```Predicao``` e compare os resultados novamente. O que percebe?"
   ]
  },
  {
   "cell_type": "code",
   "execution_count": 4,
   "metadata": {},
   "outputs": [
    {
     "data": {
      "text/plain": [
       "'R2 para todas as instâncias: 0.9047688567768248'"
      ]
     },
     "metadata": {},
     "output_type": "display_data"
    },
    {
     "data": {
      "text/plain": [
       "'MAE para todas as instâncias: 11603.692307692309'"
      ]
     },
     "metadata": {},
     "output_type": "display_data"
    },
    {
     "data": {
      "text/plain": [
       "'MSE para todas as instâncias: 1733906517.5384614'"
      ]
     },
     "metadata": {},
     "output_type": "display_data"
    },
    {
     "data": {
      "text/plain": [
       "'RMSE para todas as instâncias: 41640.20313997593'"
      ]
     },
     "metadata": {},
     "output_type": "display_data"
    },
    {
     "data": {
      "text/plain": [
       "'MSLE para todas as instâncias: 7.634412644768582'"
      ]
     },
     "metadata": {},
     "output_type": "display_data"
    },
    {
     "data": {
      "text/plain": [
       "'MAPE para todas as instâncias: 3464307405669613.0'"
      ]
     },
     "metadata": {},
     "output_type": "display_data"
    },
    {
     "data": {
      "text/html": [
       "<div>\n",
       "<style scoped>\n",
       "    .dataframe tbody tr th:only-of-type {\n",
       "        vertical-align: middle;\n",
       "    }\n",
       "\n",
       "    .dataframe tbody tr th {\n",
       "        vertical-align: top;\n",
       "    }\n",
       "\n",
       "    .dataframe thead th {\n",
       "        text-align: right;\n",
       "    }\n",
       "</style>\n",
       "<table border=\"1\" class=\"dataframe\">\n",
       "  <thead>\n",
       "    <tr style=\"text-align: right;\">\n",
       "      <th></th>\n",
       "      <th>SaldoConta</th>\n",
       "      <th>Predicao</th>\n",
       "      <th>MAE</th>\n",
       "      <th>MSE</th>\n",
       "      <th>RMSE</th>\n",
       "      <th>MSLE</th>\n",
       "      <th>MAPE</th>\n",
       "    </tr>\n",
       "  </thead>\n",
       "  <tbody>\n",
       "    <tr>\n",
       "      <th>0</th>\n",
       "      <td>150150</td>\n",
       "      <td>15</td>\n",
       "      <td>150135.000</td>\n",
       "      <td>22540518225.000</td>\n",
       "      <td>150135.000</td>\n",
       "      <td>83.664</td>\n",
       "      <td>1.000</td>\n",
       "    </tr>\n",
       "    <tr>\n",
       "      <th>1</th>\n",
       "      <td>100</td>\n",
       "      <td>10</td>\n",
       "      <td>90.000</td>\n",
       "      <td>8100.000</td>\n",
       "      <td>90.000</td>\n",
       "      <td>4.916</td>\n",
       "      <td>0.900</td>\n",
       "    </tr>\n",
       "    <tr>\n",
       "      <th>2</th>\n",
       "      <td>10</td>\n",
       "      <td>100</td>\n",
       "      <td>90.000</td>\n",
       "      <td>8100.000</td>\n",
       "      <td>90.000</td>\n",
       "      <td>4.916</td>\n",
       "      <td>9.000</td>\n",
       "    </tr>\n",
       "    <tr>\n",
       "      <th>3</th>\n",
       "      <td>1</td>\n",
       "      <td>1</td>\n",
       "      <td>0.000</td>\n",
       "      <td>0.000</td>\n",
       "      <td>0.000</td>\n",
       "      <td>0.000</td>\n",
       "      <td>0.000</td>\n",
       "    </tr>\n",
       "    <tr>\n",
       "      <th>4</th>\n",
       "      <td>0</td>\n",
       "      <td>0</td>\n",
       "      <td>0.000</td>\n",
       "      <td>0.000</td>\n",
       "      <td>0.000</td>\n",
       "      <td>0.000</td>\n",
       "      <td>0.000</td>\n",
       "    </tr>\n",
       "    <tr>\n",
       "      <th>5</th>\n",
       "      <td>0</td>\n",
       "      <td>10</td>\n",
       "      <td>10.000</td>\n",
       "      <td>100.000</td>\n",
       "      <td>10.000</td>\n",
       "      <td>5.750</td>\n",
       "      <td>45035996273704960.000</td>\n",
       "    </tr>\n",
       "    <tr>\n",
       "      <th>6</th>\n",
       "      <td>0</td>\n",
       "      <td>0</td>\n",
       "      <td>0.000</td>\n",
       "      <td>0.000</td>\n",
       "      <td>0.000</td>\n",
       "      <td>0.000</td>\n",
       "      <td>0.000</td>\n",
       "    </tr>\n",
       "    <tr>\n",
       "      <th>7</th>\n",
       "      <td>50</td>\n",
       "      <td>49</td>\n",
       "      <td>1.000</td>\n",
       "      <td>1.000</td>\n",
       "      <td>1.000</td>\n",
       "      <td>0.000</td>\n",
       "      <td>0.020</td>\n",
       "    </tr>\n",
       "    <tr>\n",
       "      <th>8</th>\n",
       "      <td>500</td>\n",
       "      <td>490</td>\n",
       "      <td>10.000</td>\n",
       "      <td>100.000</td>\n",
       "      <td>10.000</td>\n",
       "      <td>0.000</td>\n",
       "      <td>0.020</td>\n",
       "    </tr>\n",
       "    <tr>\n",
       "      <th>9</th>\n",
       "      <td>500</td>\n",
       "      <td>510</td>\n",
       "      <td>10.000</td>\n",
       "      <td>100.000</td>\n",
       "      <td>10.000</td>\n",
       "      <td>0.000</td>\n",
       "      <td>0.020</td>\n",
       "    </tr>\n",
       "    <tr>\n",
       "      <th>10</th>\n",
       "      <td>5000</td>\n",
       "      <td>5001</td>\n",
       "      <td>1.000</td>\n",
       "      <td>1.000</td>\n",
       "      <td>1.000</td>\n",
       "      <td>0.000</td>\n",
       "      <td>0.000</td>\n",
       "    </tr>\n",
       "    <tr>\n",
       "      <th>11</th>\n",
       "      <td>50000</td>\n",
       "      <td>50001</td>\n",
       "      <td>1.000</td>\n",
       "      <td>1.000</td>\n",
       "      <td>1.000</td>\n",
       "      <td>0.000</td>\n",
       "      <td>0.000</td>\n",
       "    </tr>\n",
       "    <tr>\n",
       "      <th>12</th>\n",
       "      <td>500000</td>\n",
       "      <td>500500</td>\n",
       "      <td>500.000</td>\n",
       "      <td>250000.000</td>\n",
       "      <td>500.000</td>\n",
       "      <td>0.000</td>\n",
       "      <td>0.001</td>\n",
       "    </tr>\n",
       "  </tbody>\n",
       "</table>\n",
       "</div>"
      ],
      "text/plain": [
       "    SaldoConta  Predicao        MAE             MSE       RMSE   MSLE  \\\n",
       "0       150150        15 150135.000 22540518225.000 150135.000 83.664   \n",
       "1          100        10     90.000        8100.000     90.000  4.916   \n",
       "2           10       100     90.000        8100.000     90.000  4.916   \n",
       "3            1         1      0.000           0.000      0.000  0.000   \n",
       "4            0         0      0.000           0.000      0.000  0.000   \n",
       "5            0        10     10.000         100.000     10.000  5.750   \n",
       "6            0         0      0.000           0.000      0.000  0.000   \n",
       "7           50        49      1.000           1.000      1.000  0.000   \n",
       "8          500       490     10.000         100.000     10.000  0.000   \n",
       "9          500       510     10.000         100.000     10.000  0.000   \n",
       "10        5000      5001      1.000           1.000      1.000  0.000   \n",
       "11       50000     50001      1.000           1.000      1.000  0.000   \n",
       "12      500000    500500    500.000      250000.000    500.000  0.000   \n",
       "\n",
       "                    MAPE  \n",
       "0                  1.000  \n",
       "1                  0.900  \n",
       "2                  9.000  \n",
       "3                  0.000  \n",
       "4                  0.000  \n",
       "5  45035996273704960.000  \n",
       "6                  0.000  \n",
       "7                  0.020  \n",
       "8                  0.020  \n",
       "9                  0.020  \n",
       "10                 0.000  \n",
       "11                 0.000  \n",
       "12                 0.001  "
      ]
     },
     "execution_count": 4,
     "metadata": {},
     "output_type": "execute_result"
    }
   ],
   "source": [
    "for index, row in df_saldoconta.iterrows():\n",
    "    df_saldoconta.loc[index, 'MAE'] = mean_absolute_error([row['SaldoConta']], [row['Predicao']])\n",
    "    df_saldoconta.loc[index, 'MSE'] = mean_squared_error([row['SaldoConta']], [row['Predicao']])\n",
    "    df_saldoconta.loc[index, 'RMSE'] = mean_squared_error([row['SaldoConta']], [row['Predicao']], squared=False)\n",
    "    df_saldoconta.loc[index, 'MSLE'] = mean_squared_log_error([row['SaldoConta']], [row['Predicao']])\n",
    "    df_saldoconta.loc[index, 'MAPE'] = mean_absolute_percentage_error([row['SaldoConta']], [row['Predicao']])\n",
    "\n",
    "display(f\"R2 para todas as instâncias: {r2_score(df_saldoconta['SaldoConta'], df_saldoconta['Predicao'])}\")\n",
    "display(f\"MAE para todas as instâncias: {mean_absolute_error(df_saldoconta['SaldoConta'], df_saldoconta['Predicao'])}\")\n",
    "display(f\"MSE para todas as instâncias: {mean_squared_error(df_saldoconta['SaldoConta'], df_saldoconta['Predicao'])}\")\n",
    "display(f\"RMSE para todas as instâncias: {mean_squared_error(df_saldoconta['SaldoConta'], df_saldoconta['Predicao'], squared=False)}\")\n",
    "display(f\"MSLE para todas as instâncias: {mean_squared_log_error(df_saldoconta['SaldoConta'], df_saldoconta['Predicao'])}\")\n",
    "display(f\"MAPE para todas as instâncias: {mean_absolute_percentage_error(df_saldoconta['SaldoConta'], df_saldoconta['Predicao'])}\")\n",
    "\n",
    "df_saldoconta"
   ]
  },
  {
   "cell_type": "markdown",
   "metadata": {},
   "source": [
    "Mudando a predição da linha 5 para um zero:"
   ]
  },
  {
   "cell_type": "code",
   "execution_count": 5,
   "metadata": {},
   "outputs": [
    {
     "data": {
      "text/plain": [
       "'R2 para todas as instâncias: 0.9047688571993086'"
      ]
     },
     "metadata": {},
     "output_type": "display_data"
    },
    {
     "data": {
      "text/plain": [
       "'MAE para todas as instâncias: 11602.923076923076'"
      ]
     },
     "metadata": {},
     "output_type": "display_data"
    },
    {
     "data": {
      "text/plain": [
       "'MSE para todas as instâncias: 1733906509.8461537'"
      ]
     },
     "metadata": {},
     "output_type": "display_data"
    },
    {
     "data": {
      "text/plain": [
       "'RMSE para todas as instâncias: 41640.203047609575'"
      ]
     },
     "metadata": {},
     "output_type": "display_data"
    },
    {
     "data": {
      "text/plain": [
       "'MSLE para todas as instâncias: 7.1921125109755994'"
      ]
     },
     "metadata": {},
     "output_type": "display_data"
    },
    {
     "data": {
      "text/plain": [
       "'MAPE para todas as instâncias: 0.8431630846076997'"
      ]
     },
     "metadata": {},
     "output_type": "display_data"
    },
    {
     "data": {
      "text/html": [
       "<div>\n",
       "<style scoped>\n",
       "    .dataframe tbody tr th:only-of-type {\n",
       "        vertical-align: middle;\n",
       "    }\n",
       "\n",
       "    .dataframe tbody tr th {\n",
       "        vertical-align: top;\n",
       "    }\n",
       "\n",
       "    .dataframe thead th {\n",
       "        text-align: right;\n",
       "    }\n",
       "</style>\n",
       "<table border=\"1\" class=\"dataframe\">\n",
       "  <thead>\n",
       "    <tr style=\"text-align: right;\">\n",
       "      <th></th>\n",
       "      <th>SaldoConta</th>\n",
       "      <th>Predicao</th>\n",
       "      <th>MAE</th>\n",
       "      <th>MSE</th>\n",
       "      <th>RMSE</th>\n",
       "      <th>MSLE</th>\n",
       "      <th>MAPE</th>\n",
       "    </tr>\n",
       "  </thead>\n",
       "  <tbody>\n",
       "    <tr>\n",
       "      <th>0</th>\n",
       "      <td>150150</td>\n",
       "      <td>15</td>\n",
       "      <td>150135.000</td>\n",
       "      <td>22540518225.000</td>\n",
       "      <td>150135.000</td>\n",
       "      <td>83.664</td>\n",
       "      <td>1.000</td>\n",
       "    </tr>\n",
       "    <tr>\n",
       "      <th>1</th>\n",
       "      <td>100</td>\n",
       "      <td>10</td>\n",
       "      <td>90.000</td>\n",
       "      <td>8100.000</td>\n",
       "      <td>90.000</td>\n",
       "      <td>4.916</td>\n",
       "      <td>0.900</td>\n",
       "    </tr>\n",
       "    <tr>\n",
       "      <th>2</th>\n",
       "      <td>10</td>\n",
       "      <td>100</td>\n",
       "      <td>90.000</td>\n",
       "      <td>8100.000</td>\n",
       "      <td>90.000</td>\n",
       "      <td>4.916</td>\n",
       "      <td>9.000</td>\n",
       "    </tr>\n",
       "    <tr>\n",
       "      <th>3</th>\n",
       "      <td>1</td>\n",
       "      <td>1</td>\n",
       "      <td>0.000</td>\n",
       "      <td>0.000</td>\n",
       "      <td>0.000</td>\n",
       "      <td>0.000</td>\n",
       "      <td>0.000</td>\n",
       "    </tr>\n",
       "    <tr>\n",
       "      <th>4</th>\n",
       "      <td>0</td>\n",
       "      <td>0</td>\n",
       "      <td>0.000</td>\n",
       "      <td>0.000</td>\n",
       "      <td>0.000</td>\n",
       "      <td>0.000</td>\n",
       "      <td>0.000</td>\n",
       "    </tr>\n",
       "    <tr>\n",
       "      <th>5</th>\n",
       "      <td>0</td>\n",
       "      <td>0</td>\n",
       "      <td>0.000</td>\n",
       "      <td>0.000</td>\n",
       "      <td>0.000</td>\n",
       "      <td>0.000</td>\n",
       "      <td>0.000</td>\n",
       "    </tr>\n",
       "    <tr>\n",
       "      <th>6</th>\n",
       "      <td>0</td>\n",
       "      <td>0</td>\n",
       "      <td>0.000</td>\n",
       "      <td>0.000</td>\n",
       "      <td>0.000</td>\n",
       "      <td>0.000</td>\n",
       "      <td>0.000</td>\n",
       "    </tr>\n",
       "    <tr>\n",
       "      <th>7</th>\n",
       "      <td>50</td>\n",
       "      <td>49</td>\n",
       "      <td>1.000</td>\n",
       "      <td>1.000</td>\n",
       "      <td>1.000</td>\n",
       "      <td>0.000</td>\n",
       "      <td>0.020</td>\n",
       "    </tr>\n",
       "    <tr>\n",
       "      <th>8</th>\n",
       "      <td>500</td>\n",
       "      <td>490</td>\n",
       "      <td>10.000</td>\n",
       "      <td>100.000</td>\n",
       "      <td>10.000</td>\n",
       "      <td>0.000</td>\n",
       "      <td>0.020</td>\n",
       "    </tr>\n",
       "    <tr>\n",
       "      <th>9</th>\n",
       "      <td>500</td>\n",
       "      <td>510</td>\n",
       "      <td>10.000</td>\n",
       "      <td>100.000</td>\n",
       "      <td>10.000</td>\n",
       "      <td>0.000</td>\n",
       "      <td>0.020</td>\n",
       "    </tr>\n",
       "    <tr>\n",
       "      <th>10</th>\n",
       "      <td>5000</td>\n",
       "      <td>5001</td>\n",
       "      <td>1.000</td>\n",
       "      <td>1.000</td>\n",
       "      <td>1.000</td>\n",
       "      <td>0.000</td>\n",
       "      <td>0.000</td>\n",
       "    </tr>\n",
       "    <tr>\n",
       "      <th>11</th>\n",
       "      <td>50000</td>\n",
       "      <td>50001</td>\n",
       "      <td>1.000</td>\n",
       "      <td>1.000</td>\n",
       "      <td>1.000</td>\n",
       "      <td>0.000</td>\n",
       "      <td>0.000</td>\n",
       "    </tr>\n",
       "    <tr>\n",
       "      <th>12</th>\n",
       "      <td>500000</td>\n",
       "      <td>500500</td>\n",
       "      <td>500.000</td>\n",
       "      <td>250000.000</td>\n",
       "      <td>500.000</td>\n",
       "      <td>0.000</td>\n",
       "      <td>0.001</td>\n",
       "    </tr>\n",
       "  </tbody>\n",
       "</table>\n",
       "</div>"
      ],
      "text/plain": [
       "    SaldoConta  Predicao        MAE             MSE       RMSE   MSLE  MAPE\n",
       "0       150150        15 150135.000 22540518225.000 150135.000 83.664 1.000\n",
       "1          100        10     90.000        8100.000     90.000  4.916 0.900\n",
       "2           10       100     90.000        8100.000     90.000  4.916 9.000\n",
       "3            1         1      0.000           0.000      0.000  0.000 0.000\n",
       "4            0         0      0.000           0.000      0.000  0.000 0.000\n",
       "5            0         0      0.000           0.000      0.000  0.000 0.000\n",
       "6            0         0      0.000           0.000      0.000  0.000 0.000\n",
       "7           50        49      1.000           1.000      1.000  0.000 0.020\n",
       "8          500       490     10.000         100.000     10.000  0.000 0.020\n",
       "9          500       510     10.000         100.000     10.000  0.000 0.020\n",
       "10        5000      5001      1.000           1.000      1.000  0.000 0.000\n",
       "11       50000     50001      1.000           1.000      1.000  0.000 0.000\n",
       "12      500000    500500    500.000      250000.000    500.000  0.000 0.001"
      ]
     },
     "execution_count": 5,
     "metadata": {},
     "output_type": "execute_result"
    }
   ],
   "source": [
    "df_saldoconta.loc[5, 'Predicao'] = 0\n",
    "\n",
    "for index, row in df_saldoconta.iterrows():\n",
    "    df_saldoconta.loc[index, 'MAE'] = mean_absolute_error([row['SaldoConta']], [row['Predicao']])\n",
    "    df_saldoconta.loc[index, 'MSE'] = mean_squared_error([row['SaldoConta']], [row['Predicao']])\n",
    "    df_saldoconta.loc[index, 'RMSE'] = mean_squared_error([row['SaldoConta']], [row['Predicao']], squared=False)\n",
    "    df_saldoconta.loc[index, 'MSLE'] = mean_squared_log_error([row['SaldoConta']], [row['Predicao']])\n",
    "    df_saldoconta.loc[index, 'MAPE'] = mean_absolute_percentage_error([row['SaldoConta']], [row['Predicao']])\n",
    "\n",
    "display(f\"R2 para todas as instâncias: {r2_score(df_saldoconta['SaldoConta'], df_saldoconta['Predicao'])}\")\n",
    "display(f\"MAE para todas as instâncias: {mean_absolute_error(df_saldoconta['SaldoConta'], df_saldoconta['Predicao'])}\")\n",
    "display(f\"MSE para todas as instâncias: {mean_squared_error(df_saldoconta['SaldoConta'], df_saldoconta['Predicao'])}\")\n",
    "display(f\"RMSE para todas as instâncias: {mean_squared_error(df_saldoconta['SaldoConta'], df_saldoconta['Predicao'], squared=False)}\")\n",
    "display(f\"MSLE para todas as instâncias: {mean_squared_log_error(df_saldoconta['SaldoConta'], df_saldoconta['Predicao'])}\")\n",
    "display(f\"MAPE para todas as instâncias: {mean_absolute_percentage_error(df_saldoconta['SaldoConta'], df_saldoconta['Predicao'])}\")\n",
    "\n",
    "df_saldoconta"
   ]
  },
  {
   "cell_type": "markdown",
   "metadata": {},
   "source": [
    "Mudando a predição da linha 0 para um 149100:"
   ]
  },
  {
   "cell_type": "code",
   "execution_count": 6,
   "metadata": {},
   "outputs": [
    {
     "data": {
      "text/plain": [
       "'R2 para todas as instâncias: 0.999994216607841'"
      ]
     },
     "metadata": {},
     "output_type": "display_data"
    },
    {
     "data": {
      "text/plain": [
       "'MAE para todas as instâncias: 134.84615384615384'"
      ]
     },
     "metadata": {},
     "output_type": "display_data"
    },
    {
     "data": {
      "text/plain": [
       "'MSE para todas as instâncias: 105300.23076923077'"
      ]
     },
     "metadata": {},
     "output_type": "display_data"
    },
    {
     "data": {
      "text/plain": [
       "'RMSE para todas as instâncias: 324.4999703686131'"
      ]
     },
     "metadata": {},
     "output_type": "display_data"
    },
    {
     "data": {
      "text/plain": [
       "'MSLE para todas as instâncias: 0.7564165457999774'"
      ]
     },
     "metadata": {},
     "output_type": "display_data"
    },
    {
     "data": {
      "text/plain": [
       "'MAPE para todas as instâncias: 0.7667856159225388'"
      ]
     },
     "metadata": {},
     "output_type": "display_data"
    },
    {
     "data": {
      "text/html": [
       "<div>\n",
       "<style scoped>\n",
       "    .dataframe tbody tr th:only-of-type {\n",
       "        vertical-align: middle;\n",
       "    }\n",
       "\n",
       "    .dataframe tbody tr th {\n",
       "        vertical-align: top;\n",
       "    }\n",
       "\n",
       "    .dataframe thead th {\n",
       "        text-align: right;\n",
       "    }\n",
       "</style>\n",
       "<table border=\"1\" class=\"dataframe\">\n",
       "  <thead>\n",
       "    <tr style=\"text-align: right;\">\n",
       "      <th></th>\n",
       "      <th>SaldoConta</th>\n",
       "      <th>Predicao</th>\n",
       "      <th>MAE</th>\n",
       "      <th>MSE</th>\n",
       "      <th>RMSE</th>\n",
       "      <th>MSLE</th>\n",
       "      <th>MAPE</th>\n",
       "    </tr>\n",
       "  </thead>\n",
       "  <tbody>\n",
       "    <tr>\n",
       "      <th>0</th>\n",
       "      <td>150150</td>\n",
       "      <td>149100</td>\n",
       "      <td>1050.000</td>\n",
       "      <td>1102500.000</td>\n",
       "      <td>1050.000</td>\n",
       "      <td>0.000</td>\n",
       "      <td>0.007</td>\n",
       "    </tr>\n",
       "    <tr>\n",
       "      <th>1</th>\n",
       "      <td>100</td>\n",
       "      <td>10</td>\n",
       "      <td>90.000</td>\n",
       "      <td>8100.000</td>\n",
       "      <td>90.000</td>\n",
       "      <td>4.916</td>\n",
       "      <td>0.900</td>\n",
       "    </tr>\n",
       "    <tr>\n",
       "      <th>2</th>\n",
       "      <td>10</td>\n",
       "      <td>100</td>\n",
       "      <td>90.000</td>\n",
       "      <td>8100.000</td>\n",
       "      <td>90.000</td>\n",
       "      <td>4.916</td>\n",
       "      <td>9.000</td>\n",
       "    </tr>\n",
       "    <tr>\n",
       "      <th>3</th>\n",
       "      <td>1</td>\n",
       "      <td>1</td>\n",
       "      <td>0.000</td>\n",
       "      <td>0.000</td>\n",
       "      <td>0.000</td>\n",
       "      <td>0.000</td>\n",
       "      <td>0.000</td>\n",
       "    </tr>\n",
       "    <tr>\n",
       "      <th>4</th>\n",
       "      <td>0</td>\n",
       "      <td>0</td>\n",
       "      <td>0.000</td>\n",
       "      <td>0.000</td>\n",
       "      <td>0.000</td>\n",
       "      <td>0.000</td>\n",
       "      <td>0.000</td>\n",
       "    </tr>\n",
       "    <tr>\n",
       "      <th>5</th>\n",
       "      <td>0</td>\n",
       "      <td>0</td>\n",
       "      <td>0.000</td>\n",
       "      <td>0.000</td>\n",
       "      <td>0.000</td>\n",
       "      <td>0.000</td>\n",
       "      <td>0.000</td>\n",
       "    </tr>\n",
       "    <tr>\n",
       "      <th>6</th>\n",
       "      <td>0</td>\n",
       "      <td>0</td>\n",
       "      <td>0.000</td>\n",
       "      <td>0.000</td>\n",
       "      <td>0.000</td>\n",
       "      <td>0.000</td>\n",
       "      <td>0.000</td>\n",
       "    </tr>\n",
       "    <tr>\n",
       "      <th>7</th>\n",
       "      <td>50</td>\n",
       "      <td>49</td>\n",
       "      <td>1.000</td>\n",
       "      <td>1.000</td>\n",
       "      <td>1.000</td>\n",
       "      <td>0.000</td>\n",
       "      <td>0.020</td>\n",
       "    </tr>\n",
       "    <tr>\n",
       "      <th>8</th>\n",
       "      <td>500</td>\n",
       "      <td>490</td>\n",
       "      <td>10.000</td>\n",
       "      <td>100.000</td>\n",
       "      <td>10.000</td>\n",
       "      <td>0.000</td>\n",
       "      <td>0.020</td>\n",
       "    </tr>\n",
       "    <tr>\n",
       "      <th>9</th>\n",
       "      <td>500</td>\n",
       "      <td>510</td>\n",
       "      <td>10.000</td>\n",
       "      <td>100.000</td>\n",
       "      <td>10.000</td>\n",
       "      <td>0.000</td>\n",
       "      <td>0.020</td>\n",
       "    </tr>\n",
       "    <tr>\n",
       "      <th>10</th>\n",
       "      <td>5000</td>\n",
       "      <td>5001</td>\n",
       "      <td>1.000</td>\n",
       "      <td>1.000</td>\n",
       "      <td>1.000</td>\n",
       "      <td>0.000</td>\n",
       "      <td>0.000</td>\n",
       "    </tr>\n",
       "    <tr>\n",
       "      <th>11</th>\n",
       "      <td>50000</td>\n",
       "      <td>50001</td>\n",
       "      <td>1.000</td>\n",
       "      <td>1.000</td>\n",
       "      <td>1.000</td>\n",
       "      <td>0.000</td>\n",
       "      <td>0.000</td>\n",
       "    </tr>\n",
       "    <tr>\n",
       "      <th>12</th>\n",
       "      <td>500000</td>\n",
       "      <td>500500</td>\n",
       "      <td>500.000</td>\n",
       "      <td>250000.000</td>\n",
       "      <td>500.000</td>\n",
       "      <td>0.000</td>\n",
       "      <td>0.001</td>\n",
       "    </tr>\n",
       "  </tbody>\n",
       "</table>\n",
       "</div>"
      ],
      "text/plain": [
       "    SaldoConta  Predicao      MAE         MSE     RMSE  MSLE  MAPE\n",
       "0       150150    149100 1050.000 1102500.000 1050.000 0.000 0.007\n",
       "1          100        10   90.000    8100.000   90.000 4.916 0.900\n",
       "2           10       100   90.000    8100.000   90.000 4.916 9.000\n",
       "3            1         1    0.000       0.000    0.000 0.000 0.000\n",
       "4            0         0    0.000       0.000    0.000 0.000 0.000\n",
       "5            0         0    0.000       0.000    0.000 0.000 0.000\n",
       "6            0         0    0.000       0.000    0.000 0.000 0.000\n",
       "7           50        49    1.000       1.000    1.000 0.000 0.020\n",
       "8          500       490   10.000     100.000   10.000 0.000 0.020\n",
       "9          500       510   10.000     100.000   10.000 0.000 0.020\n",
       "10        5000      5001    1.000       1.000    1.000 0.000 0.000\n",
       "11       50000     50001    1.000       1.000    1.000 0.000 0.000\n",
       "12      500000    500500  500.000  250000.000  500.000 0.000 0.001"
      ]
     },
     "execution_count": 6,
     "metadata": {},
     "output_type": "execute_result"
    }
   ],
   "source": [
    "df_saldoconta.loc[0, 'Predicao'] = 149100\n",
    "\n",
    "for index, row in df_saldoconta.iterrows():\n",
    "    df_saldoconta.loc[index, 'MAE'] = mean_absolute_error([row['SaldoConta']], [row['Predicao']])\n",
    "    df_saldoconta.loc[index, 'MSE'] = mean_squared_error([row['SaldoConta']], [row['Predicao']])\n",
    "    df_saldoconta.loc[index, 'RMSE'] = mean_squared_error([row['SaldoConta']], [row['Predicao']], squared=False)\n",
    "    df_saldoconta.loc[index, 'MSLE'] = mean_squared_log_error([row['SaldoConta']], [row['Predicao']])\n",
    "    df_saldoconta.loc[index, 'MAPE'] = mean_absolute_percentage_error([row['SaldoConta']], [row['Predicao']])\n",
    "\n",
    "display(f\"R2 para todas as instâncias: {r2_score(df_saldoconta['SaldoConta'], df_saldoconta['Predicao'])}\")\n",
    "display(f\"MAE para todas as instâncias: {mean_absolute_error(df_saldoconta['SaldoConta'], df_saldoconta['Predicao'])}\")\n",
    "display(f\"MSE para todas as instâncias: {mean_squared_error(df_saldoconta['SaldoConta'], df_saldoconta['Predicao'])}\")\n",
    "display(f\"RMSE para todas as instâncias: {mean_squared_error(df_saldoconta['SaldoConta'], df_saldoconta['Predicao'], squared=False)}\")\n",
    "display(f\"MSLE para todas as instâncias: {mean_squared_log_error(df_saldoconta['SaldoConta'], df_saldoconta['Predicao'])}\")\n",
    "display(f\"MAPE para todas as instâncias: {mean_absolute_percentage_error(df_saldoconta['SaldoConta'], df_saldoconta['Predicao'])}\")\n",
    "\n",
    "df_saldoconta"
   ]
  },
  {
   "cell_type": "markdown",
   "metadata": {},
   "source": [
    "## Leitura da base de dados de classificação\n",
    "O dataset ```wisconsin``` é uma conhecida base de detecção de câncer de mama."
   ]
  },
  {
   "cell_type": "code",
   "execution_count": 7,
   "metadata": {},
   "outputs": [],
   "source": [
    "df_wisconsin = pd.read_csv('wisconsin.csv')\n",
    "\n",
    "# substituindo as letras em números para que o treinamento não dê erros\n",
    "df_wisconsin['diagnosis'] = df_wisconsin['diagnosis'].replace({'B': 0, 'M': 1}) \n",
    "\n",
    "# removendo a última coluna - aparentemente houve algum erro na hora de importá-la\n",
    "df_wisconsin = df_wisconsin.dropna(axis=1)\n",
    "\n",
    "# split entre treinamento e teste. A base terá somente 5 colunas para fins de demonstração\n",
    "X_train, X_test, y_train, y_test = train_test_split(df_wisconsin[df_wisconsin.columns[-5:]],\n",
    "                                                    df_wisconsin['diagnosis'],\n",
    "                                                    test_size=0.4,\n",
    "                                                    random_state=0)"
   ]
  },
  {
   "cell_type": "markdown",
   "metadata": {},
   "source": [
    "Testando 5 configurações diferentes do RandomForestClassifier e comparando os resultados."
   ]
  },
  {
   "cell_type": "code",
   "execution_count": 8,
   "metadata": {},
   "outputs": [],
   "source": [
    "models = {} # criando um dicionário para armazenarmos os valores\n",
    "\n",
    "for estimators in [1, 2, 5, 10, 100]: # testando diferentes configurações de estimators (número de árvores do random forest)\n",
    "    models[estimators] = RandomForestClassifier(n_estimators=estimators, random_state=0).fit(X_train, y_train)"
   ]
  },
  {
   "cell_type": "code",
   "execution_count": 9,
   "metadata": {},
   "outputs": [
    {
     "data": {
      "text/plain": [
       "'Resultados para estimators=1'"
      ]
     },
     "metadata": {},
     "output_type": "display_data"
    },
    {
     "data": {
      "text/plain": [
       "'Accuracy: 0.8333333333333334'"
      ]
     },
     "metadata": {},
     "output_type": "display_data"
    },
    {
     "data": {
      "text/plain": [
       "'Balanced accuracy: 0.8174491067719152'"
      ]
     },
     "metadata": {},
     "output_type": "display_data"
    },
    {
     "data": {
      "text/plain": [
       "'Precision: 0.7777777777777778'"
      ]
     },
     "metadata": {},
     "output_type": "display_data"
    },
    {
     "data": {
      "text/plain": [
       "'Recall: 0.7590361445783133'"
      ]
     },
     "metadata": {},
     "output_type": "display_data"
    },
    {
     "data": {
      "text/plain": [
       "'F1 Score: 0.7682926829268293'"
      ]
     },
     "metadata": {},
     "output_type": "display_data"
    },
    {
     "data": {
      "text/plain": [
       "'Confusion matrix: '"
      ]
     },
     "metadata": {},
     "output_type": "display_data"
    },
    {
     "data": {
      "image/png": "[encoded data removed]",
      "text/plain": [
       "<Figure size 432x288 with 2 Axes>"
      ]
     },
     "metadata": {
      "needs_background": "light"
     },
     "output_type": "display_data"
    },
    {
     "data": {
      "text/plain": [
       "'ROC: '"
      ]
     },
     "metadata": {},
     "output_type": "display_data"
    },
    {
     "data": {
      "image/png": "[encoded data removed]",
      "text/plain": [
       "<Figure size 432x288 with 1 Axes>"
      ]
     },
     "metadata": {
      "needs_background": "light"
     },
     "output_type": "display_data"
    },
    {
     "data": {
      "text/plain": [
       "'AUC: 0.8174491067719153'"
      ]
     },
     "metadata": {},
     "output_type": "display_data"
    },
    {
     "data": {
      "text/plain": [
       "'============================='"
      ]
     },
     "metadata": {},
     "output_type": "display_data"
    },
    {
     "data": {
      "text/plain": [
       "'Resultados para estimators=2'"
      ]
     },
     "metadata": {},
     "output_type": "display_data"
    },
    {
     "data": {
      "text/plain": [
       "'Accuracy: 0.8596491228070176'"
      ]
     },
     "metadata": {},
     "output_type": "display_data"
    },
    {
     "data": {
      "text/plain": [
       "'Balanced accuracy: 0.8304113003739094'"
      ]
     },
     "metadata": {},
     "output_type": "display_data"
    },
    {
     "data": {
      "text/plain": [
       "'Precision: 0.8695652173913043'"
      ]
     },
     "metadata": {},
     "output_type": "display_data"
    },
    {
     "data": {
      "text/plain": [
       "'Recall: 0.7228915662650602'"
      ]
     },
     "metadata": {},
     "output_type": "display_data"
    },
    {
     "data": {
      "text/plain": [
       "'F1 Score: 0.7894736842105263'"
      ]
     },
     "metadata": {},
     "output_type": "display_data"
    },
    {
     "data": {
      "text/plain": [
       "'Confusion matrix: '"
      ]
     },
     "metadata": {},
     "output_type": "display_data"
    },
    {
     "data": {
      "image/png": "[encoded data removed]",
      "text/plain": [
       "<Figure size 432x288 with 2 Axes>"
      ]
     },
     "metadata": {
      "needs_background": "light"
     },
     "output_type": "display_data"
    },
    {
     "data": {
      "text/plain": [
       "'ROC: '"
      ]
     },
     "metadata": {},
     "output_type": "display_data"
    },
    {
     "data": {
      "image/png": "[encoded data removed]",
      "text/plain": [
       "<Figure size 432x288 with 1 Axes>"
      ]
     },
     "metadata": {
      "needs_background": "light"
     },
     "output_type": "display_data"
    },
    {
     "data": {
      "text/plain": [
       "'AUC: 0.8304113003739095'"
      ]
     },
     "metadata": {},
     "output_type": "display_data"
    },
    {
     "data": {
      "text/plain": [
       "'============================='"
      ]
     },
     "metadata": {},
     "output_type": "display_data"
    },
    {
     "data": {
      "text/plain": [
       "'Resultados para estimators=5'"
      ]
     },
     "metadata": {},
     "output_type": "display_data"
    },
    {
     "data": {
      "text/plain": [
       "'Accuracy: 0.8947368421052632'"
      ]
     },
     "metadata": {},
     "output_type": "display_data"
    },
    {
     "data": {
      "text/plain": [
       "'Balanced accuracy: 0.8889073535521397'"
      ]
     },
     "metadata": {},
     "output_type": "display_data"
    },
    {
     "data": {
      "text/plain": [
       "'Precision: 0.8470588235294118'"
      ]
     },
     "metadata": {},
     "output_type": "display_data"
    },
    {
     "data": {
      "text/plain": [
       "'Recall: 0.8674698795180723'"
      ]
     },
     "metadata": {},
     "output_type": "display_data"
    },
    {
     "data": {
      "text/plain": [
       "'F1 Score: 0.8571428571428572'"
      ]
     },
     "metadata": {},
     "output_type": "display_data"
    },
    {
     "data": {
      "text/plain": [
       "'Confusion matrix: '"
      ]
     },
     "metadata": {},
     "output_type": "display_data"
    },
    {
     "data": {
      "image/png": "[encoded data removed]",
      "text/plain": [
       "<Figure size 432x288 with 2 Axes>"
      ]
     },
     "metadata": {
      "needs_background": "light"
     },
     "output_type": "display_data"
    },
    {
     "data": {
      "text/plain": [
       "'ROC: '"
      ]
     },
     "metadata": {},
     "output_type": "display_data"
    },
    {
     "data": {
      "image/png": "[encoded data removed]",
      "text/plain": [
       "<Figure size 432x288 with 1 Axes>"
      ]
     },
     "metadata": {
      "needs_background": "light"
     },
     "output_type": "display_data"
    },
    {
     "data": {
      "text/plain": [
       "'AUC: 0.8889073535521397'"
      ]
     },
     "metadata": {},
     "output_type": "display_data"
    },
    {
     "data": {
      "text/plain": [
       "'============================='"
      ]
     },
     "metadata": {},
     "output_type": "display_data"
    },
    {
     "data": {
      "text/plain": [
       "'Resultados para estimators=10'"
      ]
     },
     "metadata": {},
     "output_type": "display_data"
    },
    {
     "data": {
      "text/plain": [
       "'Accuracy: 0.9122807017543859'"
      ]
     },
     "metadata": {},
     "output_type": "display_data"
    },
    {
     "data": {
      "text/plain": [
       "'Balanced accuracy: 0.9027004570004155'"
      ]
     },
     "metadata": {},
     "output_type": "display_data"
    },
    {
     "data": {
      "text/plain": [
       "'Precision: 0.8888888888888888'"
      ]
     },
     "metadata": {},
     "output_type": "display_data"
    },
    {
     "data": {
      "text/plain": [
       "'Recall: 0.8674698795180723'"
      ]
     },
     "metadata": {},
     "output_type": "display_data"
    },
    {
     "data": {
      "text/plain": [
       "'F1 Score: 0.8780487804878048'"
      ]
     },
     "metadata": {},
     "output_type": "display_data"
    },
    {
     "data": {
      "text/plain": [
       "'Confusion matrix: '"
      ]
     },
     "metadata": {},
     "output_type": "display_data"
    },
    {
     "data": {
      "image/png": "[encoded data removed]",
      "text/plain": [
       "<Figure size 432x288 with 2 Axes>"
      ]
     },
     "metadata": {
      "needs_background": "light"
     },
     "output_type": "display_data"
    },
    {
     "data": {
      "text/plain": [
       "'ROC: '"
      ]
     },
     "metadata": {},
     "output_type": "display_data"
    },
    {
     "data": {
      "image/png": "[encoded data removed]",
      "text/plain": [
       "<Figure size 432x288 with 1 Axes>"
      ]
     },
     "metadata": {
      "needs_background": "light"
     },
     "output_type": "display_data"
    },
    {
     "data": {
      "text/plain": [
       "'AUC: 0.9027004570004155'"
      ]
     },
     "metadata": {},
     "output_type": "display_data"
    },
    {
     "data": {
      "text/plain": [
       "'============================='"
      ]
     },
     "metadata": {},
     "output_type": "display_data"
    },
    {
     "data": {
      "text/plain": [
       "'Resultados para estimators=100'"
      ]
     },
     "metadata": {},
     "output_type": "display_data"
    },
    {
     "data": {
      "text/plain": [
       "'Accuracy: 0.9342105263157895'"
      ]
     },
     "metadata": {},
     "output_type": "display_data"
    },
    {
     "data": {
      "text/plain": [
       "'Balanced accuracy: 0.9276692978811799'"
      ]
     },
     "metadata": {},
     "output_type": "display_data"
    },
    {
     "data": {
      "text/plain": [
       "'Precision: 0.9146341463414634'"
      ]
     },
     "metadata": {},
     "output_type": "display_data"
    },
    {
     "data": {
      "text/plain": [
       "'Recall: 0.9036144578313253'"
      ]
     },
     "metadata": {},
     "output_type": "display_data"
    },
    {
     "data": {
      "text/plain": [
       "'F1 Score: 0.9090909090909091'"
      ]
     },
     "metadata": {},
     "output_type": "display_data"
    },
    {
     "data": {
      "text/plain": [
       "'Confusion matrix: '"
      ]
     },
     "metadata": {},
     "output_type": "display_data"
    },
    {
     "data": {
      "image/png": "[encoded data removed]",
      "text/plain": [
       "<Figure size 432x288 with 2 Axes>"
      ]
     },
     "metadata": {
      "needs_background": "light"
     },
     "output_type": "display_data"
    },
    {
     "data": {
      "text/plain": [
       "'ROC: '"
      ]
     },
     "metadata": {},
     "output_type": "display_data"
    },
    {
     "data": {
      "image/png": "[encoded data removed]",
      "text/plain": [
       "<Figure size 432x288 with 1 Axes>"
      ]
     },
     "metadata": {
      "needs_background": "light"
     },
     "output_type": "display_data"
    },
    {
     "data": {
      "text/plain": [
       "'AUC: 0.92766929788118'"
      ]
     },
     "metadata": {},
     "output_type": "display_data"
    },
    {
     "data": {
      "text/plain": [
       "'============================='"
      ]
     },
     "metadata": {},
     "output_type": "display_data"
    }
   ],
   "source": [
    "for key in models.keys(): # passando por todas as chaves possíveis no dicionário\n",
    "    y_pred = models[key].predict(X_test)\n",
    "    \n",
    "    display(f'Resultados para estimators={key}')\n",
    "    display(f'Accuracy: {accuracy_score(y_test, y_pred)}')\n",
    "    display(f'Balanced accuracy: {balanced_accuracy_score(y_test, y_pred)}')\n",
    "    display(f'Precision: {precision_score(y_test, y_pred)}')\n",
    "    display(f'Recall: {recall_score(y_test, y_pred)}')\n",
    "    display(f'F1 Score: {f1_score(y_test, y_pred)}')\n",
    "    \n",
    "    display('Confusion matrix: ')\n",
    "    plot_confusion_matrix(models[key], X_test, y_test)\n",
    "    plt.show()\n",
    "    \n",
    "    display('ROC: ')\n",
    "    plot_roc_curve(models[key], X_test, y_test)\n",
    "    plt.show()\n",
    "    \n",
    "    display(f'AUC: {roc_auc_score(y_test, y_pred)}')\n",
    "    display('=============================')"
   ]
  },
  {
   "cell_type": "code",
   "execution_count": null,
   "metadata": {},
   "outputs": [],
   "source": []
  }
 ],
 "metadata": {
  "kernelspec": {
   "display_name": "Python 3",
   "language": "python",
   "name": "python3"
  },
  "language_info": {
   "codemirror_mode": {
    "name": "ipython",
    "version": 3
   },
   "file_extension": ".py",
   "mimetype": "text/x-python",
   "name": "python",
   "nbconvert_exporter": "python",
   "pygments_lexer": "ipython3",
   "version": "3.8.8"
  }
 },
 "nbformat": 4,
 "nbformat_minor": 4
}
